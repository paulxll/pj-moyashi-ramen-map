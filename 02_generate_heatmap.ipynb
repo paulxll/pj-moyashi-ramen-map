{
 "cells": [
  {
   "cell_type": "code",
   "execution_count": 1,
   "metadata": {},
   "outputs": [],
   "source": [
    "import pandas as pd\n",
    "import numpy as np\n",
    "from IPython.display import display\n",
    "import datetime\n",
    "from tqdm import tqdm\n",
    "import os\n",
    "\n",
    "import matplotlib.pyplot as plt\n",
    "import seaborn as sns\n",
    "%matplotlib inline\n",
    "plt.style.use('ggplot')\n",
    "plt.rcParams['font.family'] = 'TakaoPGothic'"
   ]
  },
  {
   "cell_type": "code",
   "execution_count": 7,
   "metadata": {},
   "outputs": [
    {
     "data": {
      "text/plain": [
       "(857, 10)"
      ]
     },
     "metadata": {},
     "output_type": "display_data"
    },
    {
     "data": {
      "text/html": [
       "<div>\n",
       "<style scoped>\n",
       "    .dataframe tbody tr th:only-of-type {\n",
       "        vertical-align: middle;\n",
       "    }\n",
       "\n",
       "    .dataframe tbody tr th {\n",
       "        vertical-align: top;\n",
       "    }\n",
       "\n",
       "    .dataframe thead th {\n",
       "        text-align: right;\n",
       "    }\n",
       "</style>\n",
       "<table border=\"1\" class=\"dataframe\">\n",
       "  <thead>\n",
       "    <tr style=\"text-align: right;\">\n",
       "      <th></th>\n",
       "      <th>Unnamed: 0</th>\n",
       "      <th>name</th>\n",
       "      <th>pref</th>\n",
       "      <th>review_score</th>\n",
       "      <th>review_num</th>\n",
       "      <th>status</th>\n",
       "      <th>url</th>\n",
       "      <th>address</th>\n",
       "      <th>lat</th>\n",
       "      <th>lon</th>\n",
       "    </tr>\n",
       "  </thead>\n",
       "  <tbody>\n",
       "    <tr>\n",
       "      <th>0</th>\n",
       "      <td>0</td>\n",
       "      <td>ラーメン二郎 ひばりヶ丘駅前店</td>\n",
       "      <td>東京都</td>\n",
       "      <td>89.00</td>\n",
       "      <td>1,043</td>\n",
       "      <td>営業</td>\n",
       "      <td>https://ramendb.supleks.jp/s/4738.html</td>\n",
       "      <td>〒188-0001 東京都西東京市谷戸町3-27-24 ひばりヶ丘プラザ1F</td>\n",
       "      <td>35.750075</td>\n",
       "      <td>139.543763</td>\n",
       "    </tr>\n",
       "    <tr>\n",
       "      <th>1</th>\n",
       "      <td>1</td>\n",
       "      <td>ラーメン二郎 八王子野猿街道店2</td>\n",
       "      <td>東京都</td>\n",
       "      <td>88.20</td>\n",
       "      <td>1,053</td>\n",
       "      <td>営業</td>\n",
       "      <td>https://ramendb.supleks.jp/s/4017.html</td>\n",
       "      <td>〒192-0355 東京都八王子市堀之内2-13-16</td>\n",
       "      <td>35.629525</td>\n",
       "      <td>139.401362</td>\n",
       "    </tr>\n",
       "    <tr>\n",
       "      <th>2</th>\n",
       "      <td>2</td>\n",
       "      <td>ラーメン二郎 横浜関内店</td>\n",
       "      <td>神奈川県</td>\n",
       "      <td>87.72</td>\n",
       "      <td>1,027</td>\n",
       "      <td>営業</td>\n",
       "      <td>https://ramendb.supleks.jp/s/2532.html</td>\n",
       "      <td>〒231-0033 神奈川県横浜市中区長者町6-94</td>\n",
       "      <td>35.442006</td>\n",
       "      <td>139.630675</td>\n",
       "    </tr>\n",
       "    <tr>\n",
       "      <th>3</th>\n",
       "      <td>3</td>\n",
       "      <td>ラーメン二郎 神田神保町店</td>\n",
       "      <td>東京都</td>\n",
       "      <td>87.57</td>\n",
       "      <td>93</td>\n",
       "      <td>営業</td>\n",
       "      <td>https://ramendb.supleks.jp/s/105637.html</td>\n",
       "      <td>〒101-0051 東京都千代田区神田神保町1-21-4</td>\n",
       "      <td>35.695364</td>\n",
       "      <td>139.761030</td>\n",
       "    </tr>\n",
       "    <tr>\n",
       "      <th>4</th>\n",
       "      <td>4</td>\n",
       "      <td>ラーメン二郎 めじろ台店</td>\n",
       "      <td>東京都</td>\n",
       "      <td>87.37</td>\n",
       "      <td>111</td>\n",
       "      <td>営業</td>\n",
       "      <td>https://ramendb.supleks.jp/s/99697.html</td>\n",
       "      <td>〒193-0942 東京都八王子市椚田町513-9</td>\n",
       "      <td>35.638958</td>\n",
       "      <td>139.312231</td>\n",
       "    </tr>\n",
       "  </tbody>\n",
       "</table>\n",
       "</div>"
      ],
      "text/plain": [
       "   Unnamed: 0              name  pref  review_score review_num status  \\\n",
       "0           0   ラーメン二郎 ひばりヶ丘駅前店   東京都         89.00      1,043     営業   \n",
       "1           1  ラーメン二郎 八王子野猿街道店2   東京都         88.20      1,053     営業   \n",
       "2           2      ラーメン二郎 横浜関内店  神奈川県         87.72      1,027     営業   \n",
       "3           3     ラーメン二郎 神田神保町店   東京都         87.57         93     営業   \n",
       "4           4      ラーメン二郎 めじろ台店   東京都         87.37        111     営業   \n",
       "\n",
       "                                        url  \\\n",
       "0    https://ramendb.supleks.jp/s/4738.html   \n",
       "1    https://ramendb.supleks.jp/s/4017.html   \n",
       "2    https://ramendb.supleks.jp/s/2532.html   \n",
       "3  https://ramendb.supleks.jp/s/105637.html   \n",
       "4   https://ramendb.supleks.jp/s/99697.html   \n",
       "\n",
       "                                  address        lat         lon  \n",
       "0  〒188-0001 東京都西東京市谷戸町3-27-24 ひばりヶ丘プラザ1F  35.750075  139.543763  \n",
       "1             〒192-0355 東京都八王子市堀之内2-13-16  35.629525  139.401362  \n",
       "2              〒231-0033 神奈川県横浜市中区長者町6-94  35.442006  139.630675  \n",
       "3            〒101-0051 東京都千代田区神田神保町1-21-4  35.695364  139.761030  \n",
       "4               〒193-0942 東京都八王子市椚田町513-9  35.638958  139.312231  "
      ]
     },
     "metadata": {},
     "output_type": "display_data"
    }
   ],
   "source": [
    "df = pd.read_csv('active_shops_with_latlon.csv')\n",
    "display(df.shape)\n",
    "display(df.head())"
   ]
  },
  {
   "cell_type": "code",
   "execution_count": 8,
   "metadata": {},
   "outputs": [
    {
     "data": {
      "text/plain": [
       "<matplotlib.axes._subplots.AxesSubplot at 0x1a1b89c1d0>"
      ]
     },
     "execution_count": 8,
     "metadata": {},
     "output_type": "execute_result"
    },
    {
     "data": {
      "image/png": "[encoded data removed]",
      "text/plain": [
       "<Figure size 432x288 with 1 Axes>"
      ]
     },
     "metadata": {},
     "output_type": "display_data"
    }
   ],
   "source": [
    "df.review_score.hist(bins=80)"
   ]
  },
  {
   "cell_type": "code",
   "execution_count": 11,
   "metadata": {},
   "outputs": [],
   "source": [
    "from folium import Map, Marker, CustomIcon, LayerControl\n",
    "from folium.plugins import HeatMap\n",
    "\n",
    "# いらすとやから「もやしがたくさん乗ったラーメンのイラスト」をアイコン用に拝借\n",
    "icon_ramen = \"https://2.bp.blogspot.com/-09XFbYdTmLs/VwIgXThmQWI/AAAAAAAA5bg/3TdIOG1frrEsHFWOGi5GTqD4X5k8qrxJQ/s400/ramen_moyashi.png\"\n",
    "\n",
    "# ラーメン屋の店舗名、URL、レビュースコア、緯度経度が入ったpandas データフレーム\n",
    "df = pd.read_csv('active_shops_with_latlon.csv')\n",
    "# foliumのMapオブジェクトを作成。初期位置は、データに含まれる緯度経度を利用\n",
    "m = Map(location=[df['lat'].mean(), df['lon'].mean()], zoom_start=5)\n",
    "# Mapオブジェクトに、緯度経度ベースのヒートマップを追加。\n",
    "# なお、ラーメンデータベース上のレビュースコアによる重みをつけている(スコアが高いと色が濃くなる)\n",
    "HeatMap(df[['lat', 'lon','review_score']].values.tolist(),name=\"ヒートマップ\").add_to(m)\n",
    "for row in df.itertuples():\n",
    "    # 一店舗ずつマーカーをMapオブジェクトに追加していく。\n",
    "    Marker(location=(row.lat, row.lon),\n",
    "                 # ポップアップに表示する項目をhtmlタグで設定\n",
    "                 popup='<a href=\"{url}\" target=\"_blank\">{name}</a>'.format(url=row.url, name=row.name),\n",
    "                 # CustomIconを使うことで、任意の画像をマーカーのアイコンに設定可能\n",
    "                 icon=CustomIcon(icon_ramen,\n",
    "                                 icon_size=(20,20),\n",
    "                                 popup_anchor=(0, 0)),\n",
    "                 ).add_to(m)\n",
    "# 描画したレイヤーをコントロールするパネルを追加。作成されたファイルの右上に追加できる。\n",
    "LayerControl().add_to(m)\n",
    "# 作成したMapオブジェクトをhtmlとして保存\n",
    "m.save(\"heatmap.html\")\n"
   ]
  },
  {
   "cell_type": "code",
   "execution_count": null,
   "metadata": {},
   "outputs": [],
   "source": []
  }
 ],
 "metadata": {
  "kernelspec": {
   "display_name": "Python 3",
   "language": "python",
   "name": "python3"
  },
  "language_info": {
   "codemirror_mode": {
    "name": "ipython",
    "version": 3
   },
   "file_extension": ".py",
   "mimetype": "text/x-python",
   "name": "python",
   "nbconvert_exporter": "python",
   "pygments_lexer": "ipython3",
   "version": "3.7.0"
  }
 },
 "nbformat": 4,
 "nbformat_minor": 2
}
